{
 "cells": [
  {
   "cell_type": "code",
   "execution_count": 3,
   "id": "4a9d0cf0-010b-4747-8fe4-ef68d0b3fad8",
   "metadata": {},
   "outputs": [
    {
     "name": "stdout",
     "output_type": "stream",
     "text": [
      "POST request was successful.\n",
      "{'result': [[2676, 0.46309593319892883], [4340, 0.42270752787590027], [471, 0.3862074911594391], [469, 0.38538774847984314], [2653, 0.38487306237220764], [2674, 0.37394240498542786], [2652, 0.3707488775253296], [4208, 0.37050095200538635], [7366, 0.3703692555427551], [6251, 0.36942052841186523], [2712, 0.3692736327648163], [2141, 0.36916372179985046], [7638, 0.36732912063598633], [5488, 0.3666028678417206], [5489, 0.36544930934906006], [498, 0.3640606105327606], [8817, 0.36381950974464417], [4852, 0.36249902844429016], [3740, 0.3621920049190521], [6245, 0.3620922267436981]]}\n"
     ]
    }
   ],
   "source": [
    "import requests\n",
    "import json\n",
    "# URL of the API endpoint\n",
    "url = 'http://localhost:8000/similarity_measure'\n",
    "\n",
    "# Data to be sent in the request body\n",
    "data = {'number': 2}\n",
    "\n",
    "# Send POST request\n",
    "response = requests.post(url, json=json.dumps(data))\n",
    "\n",
    "# Check the response status code\n",
    "if response.status_code == 200:\n",
    "    # Request was successful\n",
    "    print('POST request was successful.')\n",
    "else:\n",
    "    # Request failed\n",
    "    print('POST request failed.')\n",
    "\n",
    "# Print the response content\n",
    "print(response.json())"
   ]
  }
 ],
 "metadata": {
  "kernelspec": {
   "display_name": "Python 3 (ipykernel)",
   "language": "python",
   "name": "python3"
  },
  "language_info": {
   "codemirror_mode": {
    "name": "ipython",
    "version": 3
   },
   "file_extension": ".py",
   "mimetype": "text/x-python",
   "name": "python",
   "nbconvert_exporter": "python",
   "pygments_lexer": "ipython3",
   "version": "3.8.16"
  }
 },
 "nbformat": 4,
 "nbformat_minor": 5
}
