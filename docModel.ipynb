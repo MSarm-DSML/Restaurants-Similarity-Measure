{
 "cells": [
  {
   "cell_type": "code",
   "execution_count": 1,
   "id": "e0c206b4",
   "metadata": {},
   "outputs": [
    {
     "name": "stderr",
     "output_type": "stream",
     "text": [
      "[nltk_data] Downloading package stopwords to\n",
      "[nltk_data]     C:\\Users\\Marjorie\\AppData\\Roaming\\nltk_data...\n",
      "[nltk_data]   Package stopwords is already up-to-date!\n",
      "[nltk_data] Downloading package punkt to\n",
      "[nltk_data]     C:\\Users\\Marjorie\\AppData\\Roaming\\nltk_data...\n",
      "[nltk_data]   Package punkt is already up-to-date!\n"
     ]
    },
    {
     "data": {
      "text/plain": [
       "True"
      ]
     },
     "execution_count": 1,
     "metadata": {},
     "output_type": "execute_result"
    }
   ],
   "source": [
    "\n",
    "import numpy as np\n",
    "import pandas as pd\n",
    "import re\n",
    "import unidecode\n",
    "import string\n",
    "import nltk\n",
    "import gensim\n",
    "import warnings\n",
    "import os\n",
    "import json\n",
    "import seaborn as sns\n",
    "import matplotlib.pyplot as plt\n",
    "\n",
    "from nltk.corpus import stopwords\n",
    "from gensim.models.doc2vec import Doc2Vec, TaggedDocument\n",
    "from sklearn.manifold import TSNE\n",
    "from sklearn.decomposition import PCA \n",
    "from nltk.tokenize import word_tokenize\n",
    "\n",
    "# Filter specific warning category\n",
    "warnings.filterwarnings(\"ignore\", category=DeprecationWarning)\n",
    "\n",
    "nltk.download('stopwords') \n",
    "nltk.download('punkt')\n"
   ]
  },
  {
   "cell_type": "code",
   "execution_count": 2,
   "id": "fb0f8624",
   "metadata": {},
   "outputs": [],
   "source": [
    "folder = os.getcwd()+'\\\\RESTAURANTS'\n",
    "os.chdir(folder)"
   ]
  },
  {
   "cell_type": "code",
   "execution_count": 3,
   "id": "c73345ab",
   "metadata": {},
   "outputs": [],
   "source": [
    "# import data of different cities in a single dataset.\n",
    "df = pd.concat([pd.read_csv(file) for file in os.listdir() if '.csv' in file], axis=0)"
   ]
  },
  {
   "cell_type": "code",
   "execution_count": 4,
   "id": "f6bbdf0f",
   "metadata": {},
   "outputs": [
    {
     "data": {
      "image/png": "[encoded data removed]",
      "text/plain": [
       "<Figure size 640x480 with 1 Axes>"
      ]
     },
     "metadata": {},
     "output_type": "display_data"
    }
   ],
   "source": [
    "df = df[(df.tripadv_rating.notnull())]\n",
    "df.tripadv_rating.value_counts().reindex(np.linspace(1,5,9)).plot(kind='bar')\n",
    "plt.show()"
   ]
  },
  {
   "cell_type": "code",
   "execution_count": 5,
   "id": "ea5e1136",
   "metadata": {},
   "outputs": [],
   "source": [
    "def preprocess_list(x):\n",
    " text_list=x.replace(\"[\",\"\").replace(\"]\",\"\").split(\", '\")\n",
    " for index, text in enumerate(text_list):\n",
    "   text_list[index] = text.replace(\"'\",\"\")\n",
    " return text_list\n",
    "\n",
    "def preprocess_text(text: str, remove_stopwords: bool) -> str:\n",
    "    \"\"\"Function that cleans the input text:\n",
    "    - remove links\n",
    "    - remove special characters\n",
    "    - remove numbers\n",
    "    - remove stopwords\n",
    "    - convert to lowercase\n",
    "    - remove excessive white spaces\n",
    "    Arguments:\n",
    "        text (str): text to clean\n",
    "        remove_stopwords (bool): whether to remove stopwords\n",
    "    Returns:\n",
    "        str: cleaned text\n",
    "    \"\"\"\n",
    "    # remove links\n",
    "    text = re.sub(r\"http\\S+\", \"\", text)\n",
    "    # remove numbers and special characters\n",
    "    #text = re.sub(r\"...\\S+\", \"\", text)\n",
    "    # remove stopwords\n",
    "    if remove_stopwords:\n",
    "        # 1. create tokens\n",
    "        tokens = nltk.word_tokenize(text)\n",
    "        # 2. check if it's a stopword\n",
    "        tokens = [w.lower().strip() for w in tokens if not w.lower() in stopwords.words(\"portuguese\") and len(w.lower().strip())>2]\n",
    "        # return a list of cleaned tokens\n",
    "        return tokens\n"
   ]
  },
  {
   "cell_type": "code",
   "execution_count": 6,
   "id": "22f68380",
   "metadata": {},
   "outputs": [],
   "source": [
    "df['reviews'] = df['reviews'].map(lambda x: preprocess_list(x))\n",
    "df['price/food/meals/description'] = df['price/food/meals/description'].map(lambda x: preprocess_list(x))\n",
    "df.reviews.iloc[0]\n",
    "df['price/food/meals/description'].iloc[1]\n",
    "df['description'] = df['price/food/meals/description'].map(lambda x: x[1:] if 'R$' in x[0] else x)\n",
    "df['len'] = df.description.map(lambda x:len(x))\n",
    "df = df[df.len!=0]\n",
    "lista= df.description.tolist()"
   ]
  },
  {
   "cell_type": "code",
   "execution_count": 7,
   "id": "74892853",
   "metadata": {},
   "outputs": [
    {
     "name": "stdout",
     "output_type": "stream",
     "text": [
      "True\n"
     ]
    }
   ],
   "source": [
    "from itertools import chain\n",
    "flat_list = list(chain(*lista))\n",
    "if 'R$' in ' '.join(flat_list):\n",
    "    print(False)\n",
    "else:\n",
    "    print(True)"
   ]
  },
  {
   "cell_type": "code",
   "execution_count": 8,
   "id": "5359af9e",
   "metadata": {},
   "outputs": [],
   "source": [
    "df['price'] = df['price/food/meals/description'].map(lambda x: x[0] if  'R$' in x[0] else None)\n",
    "df['description'] = df['price/food/meals/description'].map(lambda x: x[1:] if 'R$' in x[0] else x)\n",
    "df['len'] = df.description.map(lambda x:len(x))\n",
    "df = df[df.len!=0]\n",
    "df['minimum_price'] = df.price.map(lambda x: x.split(' - ')[0].replace('R$','').strip() if x!=None else x)\n",
    "df['maximum_price'] = df.price.map(lambda x: x.split(' - ')[1].replace('R$','').strip() if x!=None else x)"
   ]
  },
  {
   "cell_type": "code",
   "execution_count": 9,
   "id": "cb8b6e87",
   "metadata": {},
   "outputs": [],
   "source": [
    "data = df.description.tolist()"
   ]
  },
  {
   "cell_type": "code",
   "execution_count": 10,
   "id": "a1e8dcff",
   "metadata": {},
   "outputs": [],
   "source": [
    "def treat_process(x):\n",
    "    datum=re.sub(r'[...,!,:,),(,*0-9]',' ',unidecode.unidecode(' '.join(','.join(x).split(',')).strip().lower()))   \n",
    "    return ' '.join(list(set(datum.split(' '))-set(stopwords.words(\"Portuguese\"))-set([''])))"
   ]
  },
  {
   "cell_type": "code",
   "execution_count": 11,
   "id": "13619660",
   "metadata": {},
   "outputs": [],
   "source": [
    "df['description'] = df.description.map(lambda x: treat_process(x))\n",
    "df['reviews'] = df.reviews.map(lambda x: treat_process(x))"
   ]
  },
  {
   "cell_type": "code",
   "execution_count": 12,
   "id": "005da49b",
   "metadata": {},
   "outputs": [],
   "source": [
    "df = df[((df.description!='') & (df.description!='...'))]"
   ]
  },
  {
   "cell_type": "code",
   "execution_count": 13,
   "id": "09721708",
   "metadata": {},
   "outputs": [],
   "source": [
    "df['corpus'] = df['description']+df['reviews']"
   ]
  },
  {
   "cell_type": "code",
   "execution_count": 14,
   "id": "618ce476",
   "metadata": {},
   "outputs": [],
   "source": [
    "text_data = df.description.tolist()\n",
    "tag = df.tripadv_rating.tolist()\n",
    "tagb = df[\"Unnamed: 0\"].tolist()\n",
    "assert len(tag)==len(text_data)\n",
    "assert len(tagb)==len(text_data)"
   ]
  },
  {
   "cell_type": "code",
   "execution_count": 15,
   "id": "add98fe4",
   "metadata": {},
   "outputs": [],
   "source": [
    "dictionary_tag={5:'A', 4.5:'A', 4.0:'B', 3.5:'B',  3.0:'C', 2.5:'C', 2.0:'C', 1.5:'C',1.0:'C',0.5:'C', 0:'C'}"
   ]
  },
  {
   "cell_type": "code",
   "execution_count": 16,
   "id": "932bb775",
   "metadata": {},
   "outputs": [],
   "source": [
    "json.dump(df.corpus.tolist(),open('test','w'))"
   ]
  },
  {
   "cell_type": "code",
   "execution_count": 17,
   "id": "9296dc74",
   "metadata": {},
   "outputs": [],
   "source": [
    "sentences = json.load(open('test','r'))"
   ]
  },
  {
   "cell_type": "code",
   "execution_count": 18,
   "id": "a55a9915",
   "metadata": {},
   "outputs": [],
   "source": [
    "documents = [TaggedDocument(doc.split(), [i]) for i, doc in enumerate(sentences)]"
   ]
  },
  {
   "cell_type": "code",
   "execution_count": 19,
   "id": "7efc5565",
   "metadata": {},
   "outputs": [],
   "source": [
    "model = Doc2Vec(min_count=1, vector_size=300, workers=4)\n",
    "model.build_vocab(documents)\n",
    "model.train(documents, total_examples=model.corpus_count, epochs=1000)"
   ]
  },
  {
   "cell_type": "code",
   "execution_count": 20,
   "id": "74d257fe",
   "metadata": {},
   "outputs": [],
   "source": [
    "model.save(\"d2v.model\")"
   ]
  },
  {
   "cell_type": "code",
   "execution_count": 21,
   "id": "e8dff6d8",
   "metadata": {},
   "outputs": [],
   "source": [
    "model = Doc2Vec.load(\"d2v.model\")"
   ]
  },
  {
   "cell_type": "code",
   "execution_count": 22,
   "id": "6ea204fe",
   "metadata": {},
   "outputs": [],
   "source": [
    "similar_doc = model.dv.most_similar(1,topn=20)"
   ]
  },
  {
   "cell_type": "code",
   "execution_count": 23,
   "id": "e45b0800",
   "metadata": {},
   "outputs": [
    {
     "data": {
      "text/plain": [
       "[(7016, 0.42266738414764404),\n",
       " (3740, 0.42234933376312256),\n",
       " (5956, 0.42091354727745056),\n",
       " (4852, 0.3962133228778839),\n",
       " (4918, 0.38509654998779297),\n",
       " (3931, 0.37584948539733887),\n",
       " (4340, 0.37333133816719055),\n",
       " (6245, 0.37202149629592896),\n",
       " (8384, 0.3664815127849579),\n",
       " (477, 0.36486074328422546),\n",
       " (8526, 0.36380520462989807),\n",
       " (8737, 0.36164000630378723),\n",
       " (4557, 0.35680094361305237),\n",
       " (2936, 0.35657569766044617),\n",
       " (4183, 0.3560754954814911),\n",
       " (8021, 0.3549533188343048),\n",
       " (4211, 0.35141512751579285),\n",
       " (2667, 0.3506387174129486),\n",
       " (7352, 0.3500428795814514),\n",
       " (4711, 0.34942153096199036)]"
      ]
     },
     "execution_count": 23,
     "metadata": {},
     "output_type": "execute_result"
    }
   ],
   "source": [
    "similar_doc"
   ]
  },
  {
   "cell_type": "code",
   "execution_count": 24,
   "id": "bffb3f87",
   "metadata": {},
   "outputs": [
    {
     "data": {
      "text/plain": [
       "('Di Vino',\n",
       " \"Olli's Burger\",\n",
       " 'Pescatore',\n",
       " 'La Plancha 292',\n",
       " 'Boteco Português',\n",
       " \"Carlito's Bar\")"
      ]
     },
     "execution_count": 24,
     "metadata": {},
     "output_type": "execute_result"
    }
   ],
   "source": [
    "tagb[1], tagb[3252], tagb[62],tagb[3255],tagb[7365], tagb[8423]"
   ]
  },
  {
   "cell_type": "code",
   "execution_count": 25,
   "id": "6596ed3c",
   "metadata": {},
   "outputs": [],
   "source": [
    "df['number_of_reviews']=df['number_of_reviews'].map(lambda x: x.split(' ')[0].replace('.','') if isinstance(x,str) \\\n",
    "                                                    else x).astype(float)"
   ]
  },
  {
   "cell_type": "code",
   "execution_count": 26,
   "id": "b7ea8f04",
   "metadata": {},
   "outputs": [
    {
     "ename": "ModuleNotFoundError",
     "evalue": "No module named 'seaborn'",
     "output_type": "error",
     "traceback": [
      "\u001b[1;31m---------------------------------------------------------------------------\u001b[0m",
      "\u001b[1;31mModuleNotFoundError\u001b[0m                       Traceback (most recent call last)",
      "Cell \u001b[1;32mIn[26], line 1\u001b[0m\n\u001b[1;32m----> 1\u001b[0m \u001b[38;5;28;01mimport\u001b[39;00m \u001b[38;5;21;01mseaborn\u001b[39;00m \u001b[38;5;28;01mas\u001b[39;00m \u001b[38;5;21;01msns\u001b[39;00m\n\u001b[0;32m      2\u001b[0m sns\u001b[38;5;241m.\u001b[39mdistplot(df\u001b[38;5;241m.\u001b[39mnumber_of_reviews[df\u001b[38;5;241m.\u001b[39mnumber_of_reviews\u001b[38;5;241m<\u001b[39m\u001b[38;5;241m500\u001b[39m])\n",
      "\u001b[1;31mModuleNotFoundError\u001b[0m: No module named 'seaborn'"
     ]
    }
   ],
   "source": [
    "sns.distplot(df.number_of_reviews[df.number_of_reviews<500])"
   ]
  },
  {
   "cell_type": "code",
   "execution_count": null,
   "id": "f623bece",
   "metadata": {},
   "outputs": [],
   "source": [
    "\n",
    "def reduce_dimensions(model):\n",
    "    num_components = 2  # number of dimensions to keep after compression\n",
    "\n",
    "    # extract vocabulary from model and vectors in order to associate them in the graph\n",
    "    keys = model.dv.index_to_key\n",
    "    vectors = np.asarray([model.dv[keys[key]] for key in keys]) \n",
    "\n",
    "    tsne = TSNE(n_components=num_components, random_state=0)\n",
    "    pca = PCA(n_components=2)\n",
    "    \n",
    "    vectors_pca = pca.fit_transform(vectors)\n",
    "    vectors_tsne = tsne.fit_transform(vectors)\n",
    "\n",
    "    x_pca = [v[0] for v in vectors_pca]\n",
    "    y_pca = [v[1] for v in vectors_pca]\n",
    "    x_tsne = [v[0] for v in vectors_tsne]\n",
    "    y_tsne = [v[1] for v in vectors_tsne]\n",
    "    labels = [tagb[key] for key in keys]\n",
    "    return x_pca, y_pca, x_tsne, y_tsne, labels\n"
   ]
  },
  {
   "cell_type": "code",
   "execution_count": null,
   "id": "8671d512",
   "metadata": {},
   "outputs": [],
   "source": [
    "x_pca, y_pca, x_tsne, y_tsne, labels = reduce_dimensions(model)"
   ]
  },
  {
   "cell_type": "code",
   "execution_count": null,
   "id": "6843c3f1",
   "metadata": {},
   "outputs": [],
   "source": [
    "plt.scatter(x_pca, y_pca, label = labels)\n",
    "plt.show()"
   ]
  },
  {
   "cell_type": "code",
   "execution_count": null,
   "id": "747b3af1",
   "metadata": {},
   "outputs": [],
   "source": [
    "plt.scatter(x_tsne, y_tsne, label = labels)\n",
    "plt.show()"
   ]
  },
  {
   "cell_type": "code",
   "execution_count": null,
   "id": "8ecd74ec",
   "metadata": {},
   "outputs": [],
   "source": []
  }
 ],
 "metadata": {
  "kernelspec": {
   "display_name": "Python 3 (ipykernel)",
   "language": "python",
   "name": "python3"
  },
  "language_info": {
   "codemirror_mode": {
    "name": "ipython",
    "version": 3
   },
   "file_extension": ".py",
   "mimetype": "text/x-python",
   "name": "python",
   "nbconvert_exporter": "python",
   "pygments_lexer": "ipython3",
   "version": "3.8.16"
  }
 },
 "nbformat": 4,
 "nbformat_minor": 5
}
