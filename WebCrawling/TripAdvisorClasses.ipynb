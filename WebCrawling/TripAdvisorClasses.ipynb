{
 "cells": [
  {
   "cell_type": "code",
   "execution_count": null,
   "id": "fe6de779-fa9e-4f15-b9b2-510c168e9767",
   "metadata": {},
   "outputs": [],
   "source": [
    "import requests,urllib3, logging, re, tqdm\n",
    "\n",
    "from selenium import webdriver\n",
    "import bs4 as bs\n",
    "from selenium.webdriver.common.by import By\n",
    "\n",
    "from selenium.webdriver.chrome.service import Service\n",
    "from webdriver_manager.chrome import ChromeDriverManager\n",
    "\n",
    "from selenium.webdriver.remote.remote_connection import LOGGER as seleniumLogger\n",
    "from selenium.webdriver.chrome.service import Service\n",
    "from urllib3.connectionpool import log as urllibLogger\n",
    "from selenium.webdriver.common.action_chains import ActionChains\n",
    "\n",
    "seleniumLogger.setLevel(logging.WARNING)\n",
    "urllibLogger.setLevel(logging.WARNING)\n",
    "\n",
    "import unicodedata\n",
    "from selenium.webdriver.chrome.options import Options\n",
    "import pandas as pd\n",
    "import numpy as np\n",
    "import time"
   ]
  },
  {
   "cell_type": "code",
   "execution_count": 1,
   "id": "4c91937c-4a84-4e86-b1a9-700157f8bc14",
   "metadata": {},
   "outputs": [],
   "source": [
    "#\n",
    "#          'são paulo' : 'https://www.tripadvisor.com.br/Restaurants-g303631-Sao_Paulo_State_of_Sao_Paulo.html',\n",
    "#          #NE\n",
    "#          'recife' : 'https://www.tripadvisor.com.br/Restaurants-g304560-Recife_State_of_Pernambuco.html',\n",
    "#          'fortaleza': 'https://www.tripadvisor.com.br/Restaurants-g303293-Fortaleza_State_of_Ceara.html',\n",
    "#          'maceió': 'https://www.tripadvisor.com.br/Restaurants-g303216-Maceio_State_of_Alagoas.html',\n",
    "#          'salvador': 'https://www.tripadvisor.com.br/Restaurants-g303272-Salvador_State_of_Bahia.html',\n",
    "#          'joão pessoa': 'https://www.tripadvisor.com.br/Restaurants-g303428-Joao_Pessoa_State_of_Paraiba.html',\n",
    "#          'natal': 'https://www.tripadvisor.com.br/Restaurants-g303518-Natal_State_of_Rio_Grande_do_Norte.html',\n",
    "#          'aracaju': 'https://www.tripadvisor.com.br/Restaurants-g303638-Aracaju_State_of_Sergipe.html',\n",
    "#          'são luiz': 'https://www.tripadvisor.com.br/Restaurants-g673267-Sao_Luis_State_of_Maranhao.html'\n",
    "#        }"
   ]
  },
  {
   "cell_type": "code",
   "execution_count": null,
   "id": "a8f15ff4-3527-47c5-867a-a55618a3b546",
   "metadata": {},
   "outputs": [],
   "source": [
    "class TripAdvisorScrap:\n",
    "    \n",
    "    def __init__(self, url):\n",
    "        self.url = url\n",
    "        self.links = {}\n",
    "        self.root = 'https://www.tripadvisor.com.br/'\n",
    "        self.acceptButton = '//*[@id=\"onetrust-accept-btn-handler\"]'\n",
    "        self.nextButton = 'a.nav.next.rndBtn.ui_button.primary.taLnk '\n",
    "        self.css_selector_titles = 'a.Lwqic.Cj.b'\n",
    "        self.timePause = 20\n",
    "        self.driver = None\n",
    "\n",
    "    def launch_browser(self):\n",
    "        \n",
    "        self.driver = webdriver.Chrome(ChromeDriverManager().install())\n",
    "        self.driver.get(self.url)\n",
    "        self.driver.implicitly_wait(2*self.timePause) \n",
    "        self.driver.find_element(\"xpath\", self.acceptButton).click()\n",
    "        return self.driver\n",
    "    \n",
    "  ### This needs the current driver state to get the correct title elements\n",
    "  \n",
    "    def getTitlesOneIter(self):\n",
    "        html = bs.BeautifulSoup(self.driver.page_source, 'html.parser')\n",
    "        for element in html.find_all('div', {'class':'tkvCJ u F f Ff K'}):\n",
    "            self.links[element.a.text] = self.root + element.a['href'] \n",
    "        return \n",
    "    \n",
    "    def pressNextButton(self):\n",
    "        try:\n",
    "            webNextButton = self.driver.find_element(By.CSS_SELECTOR, self.nextButton)\n",
    "            self.driver.implicitly_wait(self.timePause) \n",
    "            ActionChains(self.driver).move_to_element(webNextButton).click().perform()\n",
    "        except:\n",
    "            pass\n",
    "        return \n",
    "  #### n_iterations < n_pages, since not always the pressNextButton is effective in doing its job,\n",
    "  #### therefore recquiring further iterations. Perhaps its wise to use above the beautiful soup option instead.\n",
    "  #### Nevertheless, this is sufficient to proceed and to control the flow of the extraction.\n",
    "          \n",
    "    def getLinks(self, n_iterations):\n",
    "        #start = time.time()\n",
    "        if (self.driver==None):\n",
    "            self.driver = self.launch_browser()\n",
    "        else:\n",
    "            self.driver = self.driver\n",
    "        \n",
    "        for n in tqdm.tqdm(range(0,n_iterations)):\n",
    "            self.driver.implicitly_wait(2*self.timePause) \n",
    "            self.getTitlesOneIter()\n",
    "            try:\n",
    "                self.driver.implicitly_wait(3*self.timePause) \n",
    "                self.pressNextButton()\n",
    "            except:\n",
    "                pass\n",
    "    \n",
    "    \n",
    "    #### Function to be used within the driveToLink. To open the hours tab, extending the possibility of HTML extraction.\n",
    "\n",
    "        \n",
    "    #### linkName : restaurant name. Index of self.links\n",
    "   "
   ]
  },
  {
   "cell_type": "code",
   "execution_count": null,
   "id": "4c64abd1-0049-48de-90b0-f764fb4c5aa7",
   "metadata": {},
   "outputs": [],
   "source": [
    "urla = 'https://www.tripadvisor.com.br/Restaurants-g304560-Recife_State_of_Pernambuco.html'\n",
    "\n",
    "rec = TripAdvisorScrap(urla)"
   ]
  },
  {
   "cell_type": "code",
   "execution_count": null,
   "id": "4d10efe4-7ba4-4197-9438-17bcbc203100",
   "metadata": {},
   "outputs": [],
   "source": [
    "rec.getLinks(5)"
   ]
  },
  {
   "cell_type": "code",
   "execution_count": null,
   "id": "841963eb-c7f7-481e-9086-ca897f2c6271",
   "metadata": {},
   "outputs": [],
   "source": [
    "rec.links"
   ]
  },
  {
   "cell_type": "code",
   "execution_count": null,
   "id": "dec29db4-dd66-4867-845d-34cfc28a66d9",
   "metadata": {},
   "outputs": [],
   "source": [
    "rec.getLinks(80)"
   ]
  },
  {
   "cell_type": "code",
   "execution_count": null,
   "id": "db143192-de17-4ff8-bffe-729952c9eb54",
   "metadata": {},
   "outputs": [],
   "source": [
    "rec.getLinks(60)"
   ]
  },
  {
   "cell_type": "code",
   "execution_count": null,
   "id": "37f19cfd-d343-4904-a674-1c069c079abb",
   "metadata": {},
   "outputs": [],
   "source": [
    "len(rec.links)"
   ]
  },
  {
   "cell_type": "code",
   "execution_count": null,
   "id": "0a4619e0-9d13-4c30-af6b-7e579a713a89",
   "metadata": {},
   "outputs": [],
   "source": [
    "class ScrapLink():\n",
    "    \n",
    "    def __init__(self):\n",
    "        self.root = 'https://www.tripadvisor.com.br/'\n",
    "        self.acceptButton = '//*[@id=\"onetrust-accept-btn-handler\"]'\n",
    "        self.siteMenuClass = {'class' : 'YnKZo Ci Wc _S C AYHFM'}\n",
    "        self.emailClass = {'class' : 'IdiaP Me sNsFa'}\n",
    "        self.hourTabSelector = 'div.NehmB'\n",
    "        self.hoursCssSelector = 'div.RiEuX.f'\n",
    "        self.ifVerified = 'div.XAnbq._S'\n",
    "        self.externalNearLinksClass = {'class' : \"all-link\"}\n",
    "        self.foodCuisineMealsClass = {'class': \"SrqKb\"}\n",
    "        self.addressClass = {'class': \"kDZhm IdiaP Me\"}\n",
    "        self.commentsClass = {'class': \"entry\"}\n",
    "        self.reviewsIdiomsAndClassificationClass = {'class': \"choices\"}\n",
    "        self.datesOfReviewsClass = {'class':\"prw_rup prw_reviews_stay_date_hsx\"}\n",
    "        self.bubbleRatingClass = {'class': 'YDAvY R2 F1 e k'}\n",
    "        self.bubbleRatingInnerClass = {'class': \"vzATR\"}\n",
    "        self.tripAdvRatingClass = {\"class\":\"ZDEqb\"}\n",
    "        self.telephoneClass = {'class':'yEWoV'}\n",
    "        self.nameClass = {'class':'HjBfq'}\n",
    "        self.labelPriceClass = {'class':\"dlMOJ\"}\n",
    "        self.tripNumberClass = {'class':'AfQtZ'}\n",
    "        self.AnswerTable = {}\n",
    "        self.exceptions_names = []\n",
    "        self.exceptions = []\n",
    "        self.html = None\n",
    "        self.timePause = 25\n",
    "        self.driver = webdriver.Chrome(ChromeDriverManager().install())    \n",
    "    \n",
    "    \n",
    "    def scrapName(self):\n",
    "        try:\n",
    "            return self.html.find('h1', self.nameClass).text\n",
    "        except:\n",
    "            return None\n",
    "        \n",
    "    def scrapEmail(self):\n",
    "        try:\n",
    "            divEmail = self.html.find_all('div', self.emailClass)[1]\n",
    "            Email = divEmail.a['href'].split('mailto:')[1].split('?subject=?')[0]\n",
    "        except: \n",
    "            Email = None\n",
    "        return Email\n",
    "    \n",
    "    def scrapNumber(self):\n",
    "        try:\n",
    "            return self.html.find('div', self.bubbleRatingClass).b.text\n",
    "        except:\n",
    "            return None\n",
    "        \n",
    "    def scrapLabelPrice(self):\n",
    "        try:\n",
    "            return self.html.find('a', self.labelPriceClass).text\n",
    "        except:\n",
    "            return None\n",
    "    def scrapNumberReviews(self):\n",
    "        try:\n",
    "            return self.html.find('span', self.tripNumberClass).text\n",
    "        except: \n",
    "            return None\n",
    "    \n",
    "    def scrapTelephone(self):\n",
    "        try:\n",
    "            return self.html.find('div',{'class':\"IdiaP Me\"}).find('a', href=True)['href']\n",
    "        except:\n",
    "            return None\n",
    "    \n",
    "        \n",
    "    def scrapIfVerified(self):\n",
    "        try:\n",
    "            return self.driver.find_elements(By.CSS_SELECTOR, self.ifVerified)[0].text\n",
    "        except:\n",
    "            return None\n",
    "    \n",
    "    def scrapLinksMainAndMenuWebPages(self):\n",
    "        SiteMenu =  self.html.find_all('a', self.siteMenuClass)\n",
    "        try:\n",
    "            Site = SiteMenu[0][\"href\"]\n",
    "        except:\n",
    "            Site = None\n",
    "        try:\n",
    "            Menu = divSiteMenu[1][\"href\"]\n",
    "        except:\n",
    "            Menu = None\n",
    "        return Site, Menu\n",
    "        \n",
    "    def scrapNearExternalLinks(self):\n",
    "        try:\n",
    "            hotelsNear = self.root + self.html.find_all('a', self.externalNearLinksClass)[0][\"href\"]\n",
    "        except:\n",
    "            hotelsNear = None\n",
    "        try:\n",
    "            restaurantsNear = self.root + self.html.find_all('a', self.externalNearLinksClass)[1][\"href\"]\n",
    "        except:\n",
    "            restaurantsNear = None\n",
    "        try:\n",
    "            attractionsNear = self.root + self.html.find_all('a', self.externalNearLinksClass)[2][\"href\"]\n",
    "        except:\n",
    "            attractionsNear = None\n",
    "            \n",
    "        return hotelsNear, restaurantsNear, attractionsNear\n",
    "            \n",
    "    def scrapHorarios(self):\n",
    "        try:\n",
    "            horarios = self.driver.find_elements(By.CSS_SELECTOR, self.hoursCssSelector)        \n",
    "            return [unicodedata.normalize(\"NFKD\", horario.text).replace('\\n',' - ') for horario in horarios]\n",
    "        except:\n",
    "            return None\n",
    "            \n",
    "    def scrapPriceAndFoodAndMeals(self):\n",
    "        try: \n",
    "            priceFoodMeals = self.html.find_all('div', self.foodCuisineMealsClass)\n",
    "            return [unicodedata.normalize(\"NFKD\", pfm.text) for pfm in priceFoodMeals]\n",
    "        except:\n",
    "            return None\n",
    "        \n",
    "    def scrapAddress(self):\n",
    "        try:\n",
    "            addressItems =  self.html.find_all('div', self.addressClass)\n",
    "            return [unicodedata.normalize(\"NFKD\",aditem.text) for aditem in addressItems]\n",
    "        except:\n",
    "            return None\n",
    "        \n",
    "    def scrapComments(self):\n",
    "        try:\n",
    "            comments = self.html.find_all('div', self.commentsClass)\n",
    "        except:\n",
    "            return None\n",
    "        return [re.sub('\\n','', comment.text) for comment in comments]\n",
    "    \n",
    "    def scrapReviewIdiomsAndClassification(self):\n",
    "        try:\n",
    "            reviewIdiomsAndClassification = self.html.find_all('div', self.reviewsIdiomsAndClassificationClass)\n",
    "        except:\n",
    "            return None, None\n",
    "        return reviewIdiomsAndClassification[3].text, reviewIdiomsAndClassification[0].text\n",
    "        \n",
    "    def scrapDatesOfVisitsInReview(self):\n",
    "        try:\n",
    "            datesReviews = self.html.find_all('div', self.datesOfReviewsClass)\n",
    "        except:\n",
    "            return None\n",
    "        return [dateRev.text for dateRev in datesReviews]\n",
    "    \n",
    "    def scrapBubbleRatingInTrip(self):\n",
    "        try:\n",
    "            bubbles = self.html.find_all('div', self.bubbleRatingClass)[0].find_all('span', self.bubbleRatingInnerClass)\n",
    "            bubblesRating = [int(bubble.span['class'][1].replace(\"bubble_\",\"\").strip())/10 for bubble in bubbles]\n",
    "        except:\n",
    "            return None\n",
    "        return bubblesRating\n",
    "    \n",
    "    def scrapTripAdvisorRating(self):\n",
    "        try:\n",
    "            return float(unicodedata.normalize(\"NFKD\", self.html.find_all('span', self.tripAdvRatingClass)[0].text).strip().replace(\",\",\".\"))\n",
    "        except:\n",
    "            return None\n",
    "        \n",
    "    #def pressHourTab(self):\n",
    "    #    itinerary_clickable = self.driver.find_element(By.CSS_SELECTOR, self.hourTabSelector)\n",
    "    #    self.driver.implicitly_wait(self.timePause)\n",
    "    #    itinerary_clickable.click()\n",
    "    #    return\n",
    "            \n",
    "    def driveToLink(self, url):\n",
    "        start = time.time()\n",
    "        self.driver.get(url)\n",
    "        #self.driver.implicitly_wait(self.timePause/2)\n",
    "        \n",
    "        #try:\n",
    "        #    self.driver.find_element(\"xpath\", self.acceptButton).click()\n",
    "        #except:\n",
    "        #    pass\n",
    "        \n",
    "        #try:\n",
    "        #    self.driver.implicitly_wait(self.timePause)\n",
    "        #    self.pressHourTab()\n",
    "        #except:\n",
    "        #    pass\n",
    "            \n",
    "        self.html = bs.BeautifulSoup(self.driver.page_source, 'html.parser')\n",
    "        end = time.time()\n",
    "\n",
    "    \n",
    "    def scrapPage(self, url):\n",
    "                \n",
    "        self.driveToLink(url)       \n",
    "            \n",
    "        \n",
    "        site, menu = self.scrapLinksMainAndMenuWebPages()\n",
    "        \n",
    "        near_hotels , near_restaurants, near_attractions = self.scrapNearExternalLinks()\n",
    "        try:\n",
    "            idioms_rating, reviews_rating = self.scrapReviewIdiomsAndClassification()\n",
    "        except:\n",
    "            idioms_rating, reviews_rating = None, None\n",
    "        \n",
    "        self.AnswerTable[self.scrapName()] = {'url': url, \\\n",
    "                                  'triadv_rank': self.scrapNumber(), \\\n",
    "                                  'number_of_reviews': self.scrapNumberReviews(), \\\n",
    "                                  'label_price' : self.scrapLabelPrice(), \\\n",
    "                                  'e_mail' : self.scrapEmail(), \\\n",
    "                                  'telephone': self.scrapTelephone(), \\\n",
    "                                  'status': self.scrapIfVerified(), \\\n",
    "                                  'site': site, \\\n",
    "                                  'menu': menu, \\\n",
    "                                  'near_hotels': near_hotels, \\\n",
    "                                  'near_restaurants': near_restaurants, \\\n",
    "                                  'near_attractions' : near_attractions, \\\n",
    "                                  #'horarios': self.scrapHorarios(), \\\n",
    "                                  'price/food/meals/description' : self.scrapPriceAndFoodAndMeals(), \\\n",
    "                                  'address' : self.scrapAddress(), \\\n",
    "                                  'idioms_rating': idioms_rating, \\\n",
    "                                  'reviews_rating': reviews_rating, \\\n",
    "                                  'reviews': self.scrapComments(), \\\n",
    "                                  'dateOfVisitInReview': self.scrapDatesOfVisitsInReview(), \\\n",
    "                                  'bubble_rating':  self.scrapBubbleRatingInTrip(), \\\n",
    "                                  'tripadv_rating': self.scrapTripAdvisorRating()}\n",
    "        \n",
    "        \n",
    "    def scrapAll(self, links):\n",
    "        start = time.time()\n",
    "        \n",
    "        for link in tqdm.tqdm(links):\n",
    "            try:\n",
    "                self.driver.implicitly_wait(20)\n",
    "                self.scrapPage(link)\n",
    "            except:\n",
    "                self.exceptions.append(link)\n",
    "                \n",
    "        end = time.time()\n",
    "        print(start-end)\n",
    "        return \n",
    "    \n",
    "#lista_numeric = [float(text.replace('.',',')) for text in lista_alpha\n",
    "      \n",
    "    #def single_link_scrap(self, link):\n",
    "        \n",
    "    "
   ]
  },
  {
   "cell_type": "code",
   "execution_count": null,
   "id": "96c43e66-2743-4592-9471-c422f48abad4",
   "metadata": {},
   "outputs": [],
   "source": [
    "rec_scrap = ScrapLink()"
   ]
  },
  {
   "cell_type": "code",
   "execution_count": null,
   "id": "aecb7320-9b37-4f0a-9402-2a30b0033dcf",
   "metadata": {},
   "outputs": [],
   "source": [
    "rec.links"
   ]
  },
  {
   "cell_type": "code",
   "execution_count": null,
   "id": "e64a5b10-f995-4cfd-9ff6-f9dbc1d4f567",
   "metadata": {},
   "outputs": [],
   "source": [
    "rec_scrap.scrapAll(list(rec.links.values()))"
   ]
  },
  {
   "cell_type": "code",
   "execution_count": null,
   "id": "d5e26e9f-8d22-46df-9846-4b433d611d2b",
   "metadata": {},
   "outputs": [],
   "source": [
    "len(rec_scrap.AnswerTable)"
   ]
  },
  {
   "cell_type": "code",
   "execution_count": null,
   "id": "ee18334c-8d50-4ecb-b066-45ce1eda062d",
   "metadata": {},
   "outputs": [],
   "source": [
    "df=pd.DataFrame.from_dict(rec_scrap.AnswerTable, orient='index')"
   ]
  },
  {
   "cell_type": "code",
   "execution_count": null,
   "id": "ee7e00ad-fabf-4286-8ca8-a73be4bed8ad",
   "metadata": {},
   "outputs": [],
   "source": [
    "lista_price = list(['$','$$ - $$$','$$$$'])"
   ]
  },
  {
   "cell_type": "code",
   "execution_count": null,
   "id": "1b1a64f8-aacf-4b61-98e1-26bb6ecc6d1c",
   "metadata": {},
   "outputs": [],
   "source": [
    "df.label_price = df.label_price.map(lambda x: None if x not in lista_price else x)"
   ]
  },
  {
   "cell_type": "code",
   "execution_count": null,
   "id": "2b055f58-9ff2-456d-ad65-081b3d5fd4c0",
   "metadata": {},
   "outputs": [],
   "source": [
    "df.telephone.value_counts()"
   ]
  },
  {
   "cell_type": "code",
   "execution_count": null,
   "id": "124db1e8-7f73-420e-8030-f1523280944b",
   "metadata": {},
   "outputs": [],
   "source": [
    "df.shape"
   ]
  },
  {
   "cell_type": "code",
   "execution_count": null,
   "id": "735b9308-fca0-4c66-b199-3407e006de4c",
   "metadata": {},
   "outputs": [],
   "source": [
    "df.to_csv('recife_trip_adv.csv')"
   ]
  },
  {
   "cell_type": "code",
   "execution_count": null,
   "id": "bd4093b7-bc06-481e-bef8-fbb09b9c0c41",
   "metadata": {},
   "outputs": [],
   "source": [
    "url = 'https://www.tripadvisor.com.br/Restaurants-g303293-Fortaleza_State_of_Ceara.html'\n",
    "fort = TripAdvisorScrap(url)"
   ]
  },
  {
   "cell_type": "code",
   "execution_count": null,
   "id": "3822b864-eb3d-4917-999f-958b8b91a4aa",
   "metadata": {},
   "outputs": [],
   "source": [
    "fort.getLinks(140)"
   ]
  },
  {
   "cell_type": "code",
   "execution_count": null,
   "id": "f9c77ea0-7d77-4a18-90aa-cb93f49f8917",
   "metadata": {},
   "outputs": [],
   "source": [
    "fort.getLinks(50)"
   ]
  },
  {
   "cell_type": "code",
   "execution_count": null,
   "id": "1a69dee1-db12-467a-8e9b-018a676ae888",
   "metadata": {},
   "outputs": [],
   "source": [
    "fort.getLinks(20)"
   ]
  },
  {
   "cell_type": "code",
   "execution_count": null,
   "id": "0f1df09b-5849-45ad-b2f3-d17e6e6d0cc2",
   "metadata": {},
   "outputs": [],
   "source": [
    "len(fort.links)"
   ]
  },
  {
   "cell_type": "code",
   "execution_count": null,
   "id": "6e235620-db77-48eb-bf3c-c5145f925e11",
   "metadata": {},
   "outputs": [],
   "source": [
    "fort_sc = ScrapLink()"
   ]
  },
  {
   "cell_type": "code",
   "execution_count": null,
   "id": "7d29adbd-8dc2-4302-a446-a06b71b041b5",
   "metadata": {},
   "outputs": [],
   "source": [
    "fort_sc.scrapAll(list(fort.links.values())[:2000])"
   ]
  },
  {
   "cell_type": "code",
   "execution_count": null,
   "id": "8d38c938-5c7f-4135-b01b-628a74162c54",
   "metadata": {},
   "outputs": [],
   "source": [
    "fort_sc.scrapAll(list(fort.links.values())[2000:])"
   ]
  },
  {
   "cell_type": "code",
   "execution_count": null,
   "id": "f437b16c-97e8-478f-ae86-549ddbf28d87",
   "metadata": {},
   "outputs": [],
   "source": [
    "fort_test = ScrapLink"
   ]
  },
  {
   "cell_type": "code",
   "execution_count": null,
   "id": "50bf124b-f0ac-439a-af1e-a017fb47f1bf",
   "metadata": {},
   "outputs": [],
   "source": [
    "fort_test.scrapAll(list(fort.links.values()))"
   ]
  },
  {
   "cell_type": "code",
   "execution_count": null,
   "id": "df57394b-75b6-4691-9110-9fc34835d434",
   "metadata": {},
   "outputs": [],
   "source": [
    "df_frt = pd.DataFrame.from_dict(fort_sc.AnswerTable, orient='index')"
   ]
  },
  {
   "cell_type": "code",
   "execution_count": null,
   "id": "5650597c-6796-466e-8f2d-d8d818137c5a",
   "metadata": {},
   "outputs": [],
   "source": [
    "lista_price = list(['$','$$ - $$$','$$-$$$', '$$$', '$$$-$$$$', '$$$ - $$$$', '$$$$', '$$$$-$$$$$', '$$$$ - $$$$$', '$$$$$'])\n",
    "df_frt.label_price = df_frt.label_price.map(lambda x: None if x not in lista_price else x)"
   ]
  },
  {
   "cell_type": "code",
   "execution_count": null,
   "id": "e3ff34a7-70de-48b6-b26a-4ce35c9b4109",
   "metadata": {},
   "outputs": [],
   "source": [
    "df_frt.to_csv('fortaleza_trip_adv.csv')"
   ]
  },
  {
   "cell_type": "code",
   "execution_count": null,
   "id": "2f7de34b-6aa1-44d7-a555-924071f43b38",
   "metadata": {},
   "outputs": [],
   "source": [
    "url ='https://www.tripadvisor.com.br/Restaurants-g303216-Maceio_State_of_Alagoas.html'\n",
    "maceio = TripAdvisorScrap(url)"
   ]
  },
  {
   "cell_type": "code",
   "execution_count": null,
   "id": "19cfd2a4-9fe2-4027-8c45-440b19ccf8b9",
   "metadata": {},
   "outputs": [],
   "source": [
    "maceio.getLinks(140)"
   ]
  },
  {
   "cell_type": "code",
   "execution_count": null,
   "id": "b4552d0c-334e-413e-9a17-2f8b4d9acec1",
   "metadata": {},
   "outputs": [],
   "source": [
    "maceio_scrap = ScrapLink()\n",
    "maceio_scrap.scrapAll(list(maceio.links.values()))"
   ]
  },
  {
   "cell_type": "code",
   "execution_count": null,
   "id": "17842369-aeac-4903-bcba-1576fe5d0aad",
   "metadata": {},
   "outputs": [],
   "source": [
    "len(maceio_scrap.AnswerTable)"
   ]
  },
  {
   "cell_type": "code",
   "execution_count": null,
   "id": "41c1815f-ed45-4cac-a1fa-aa3306eae831",
   "metadata": {},
   "outputs": [],
   "source": [
    "df_maceio = pd.DataFrame.from_dict(maceio_scrap.AnswerTable, orient='index')"
   ]
  },
  {
   "cell_type": "code",
   "execution_count": null,
   "id": "428171b4-5b3c-43ef-aca9-7b51786431ae",
   "metadata": {},
   "outputs": [],
   "source": [
    "lista_price = list(['$','$$ - $$$','$$-$$$', '$$$', '$$$-$$$$', '$$$ - $$$$', '$$$$', '$$$$-$$$$$', '$$$$ - $$$$$', '$$$$$'])\n",
    "df_maceio.label_price = df_maceio.label_price.map(lambda x: None if x not in lista_price else x)"
   ]
  },
  {
   "cell_type": "code",
   "execution_count": null,
   "id": "9f59604b-6d9d-444d-b3cd-3dc5483b4196",
   "metadata": {},
   "outputs": [],
   "source": [
    "df_maceio.to_csv('maceio_trip_adv.csv')"
   ]
  },
  {
   "cell_type": "code",
   "execution_count": null,
   "id": "9525548b-1c23-4ee6-9d04-8033390c2fc6",
   "metadata": {},
   "outputs": [],
   "source": [
    "url = 'https://www.tripadvisor.com.br/Restaurants-g303272-Salvador_State_of_Bahia.html'\n",
    "salvador = TripAdvisorScrap(url)"
   ]
  },
  {
   "cell_type": "code",
   "execution_count": null,
   "id": "2ab675e2-bde8-4ddd-bae4-e53637b7ffe2",
   "metadata": {},
   "outputs": [],
   "source": [
    "salvador.getLinks(249)"
   ]
  },
  {
   "cell_type": "code",
   "execution_count": null,
   "id": "329668b3-296e-4932-8d87-f6bd25017e1e",
   "metadata": {},
   "outputs": [],
   "source": [
    "len(salvador.links)"
   ]
  },
  {
   "cell_type": "code",
   "execution_count": null,
   "id": "f2cb78df-d41c-4878-b129-7d8b66ccd6fb",
   "metadata": {},
   "outputs": [],
   "source": [
    "salvador_scrapa = ScrapLink()\n",
    "salvador_scrapa.scrapAll(list(salvador.links.values()))"
   ]
  },
  {
   "cell_type": "code",
   "execution_count": null,
   "id": "8286f737-69f1-4c82-a77d-969efee56a36",
   "metadata": {},
   "outputs": [],
   "source": [
    "len(salvador.links)"
   ]
  },
  {
   "cell_type": "code",
   "execution_count": null,
   "id": "196f43eb-bcea-4501-97d6-2e2359764b46",
   "metadata": {},
   "outputs": [],
   "source": [
    "df_salvador = pd.DataFrame.from_dict(salvador_scrapa.AnswerTable, orient='index')"
   ]
  },
  {
   "cell_type": "code",
   "execution_count": null,
   "id": "0d6304fd-b680-4514-8b2a-0155a03be878",
   "metadata": {},
   "outputs": [],
   "source": [
    "lista_price = list(['$','$$ - $$$','$$-$$$', '$$$', '$$$-$$$$', '$$$ - $$$$', '$$$$', '$$$$-$$$$$', '$$$$ - $$$$$', '$$$$$'])\n",
    "df_salvador.label_price = df_salvador.label_price.map(lambda x: None if x not in lista_price else x)"
   ]
  },
  {
   "cell_type": "code",
   "execution_count": null,
   "id": "85cb2ffd-48b5-4845-bbd4-8c1d1b87fc9f",
   "metadata": {},
   "outputs": [],
   "source": [
    "df_salvador.to_csv('salvador_trip_adv.csv')"
   ]
  },
  {
   "cell_type": "code",
   "execution_count": null,
   "id": "f0368649-2777-4cbf-a7f3-7daf825a1a59",
   "metadata": {},
   "outputs": [],
   "source": [
    "len(salvador_scrapa.AnswerTable)"
   ]
  },
  {
   "cell_type": "code",
   "execution_count": null,
   "id": "f035a686-1701-46d4-b249-5714f074d0f7",
   "metadata": {},
   "outputs": [],
   "source": [
    "url = 'https://www.tripadvisor.com.br/Restaurants-g303428-Joao_Pessoa_State_of_Paraiba.html'\n",
    "jp = TripAdvisorScrap(url)"
   ]
  },
  {
   "cell_type": "code",
   "execution_count": null,
   "id": "dddc0002-501d-4114-b84a-9773560140f0",
   "metadata": {},
   "outputs": [],
   "source": [
    "jp.getLinks(200)"
   ]
  },
  {
   "cell_type": "code",
   "execution_count": null,
   "id": "0f0015f2-0919-4590-8b12-7ea9e5fb4d3c",
   "metadata": {},
   "outputs": [],
   "source": [
    "jp_scrapa = ScrapLink()\n",
    "jp_scrapa.scrapAll(list(jp.links.values()))"
   ]
  },
  {
   "cell_type": "code",
   "execution_count": null,
   "id": "b11e0670-c0bc-4009-91ef-06a3e0881865",
   "metadata": {},
   "outputs": [],
   "source": [
    "df_jp = pd.DataFrame.from_dict(jp_scrapa.AnswerTable, orient='index')"
   ]
  },
  {
   "cell_type": "code",
   "execution_count": null,
   "id": "125019fb-374f-4210-b9bd-d5a6b1d8cd25",
   "metadata": {},
   "outputs": [],
   "source": [
    "lista_price = list(['$','$$ - $$$','$$-$$$', '$$$', '$$$-$$$$', '$$$ - $$$$', '$$$$', '$$$$-$$$$$', '$$$$ - $$$$$', '$$$$$'])\n",
    "df_jp.label_price = df_jp.label_price.map(lambda x: None if x not in lista_price else x)"
   ]
  },
  {
   "cell_type": "code",
   "execution_count": null,
   "id": "d5ea2761-bf9a-499d-a3e8-fe68a727770f",
   "metadata": {},
   "outputs": [],
   "source": [
    "df_jp.to_csv('joao_pessoa_trip_adv.csv')"
   ]
  },
  {
   "cell_type": "code",
   "execution_count": null,
   "id": "a1691407-a7f8-4519-8eed-cab946919b4a",
   "metadata": {},
   "outputs": [],
   "source": [
    "url = 'https://www.tripadvisor.com.br/Restaurants-g303518-Natal_State_of_Rio_Grande_do_Norte.html'\n",
    "natal = TripAdvisorScrap(url)"
   ]
  },
  {
   "cell_type": "code",
   "execution_count": null,
   "id": "243b59f7-7fb4-4de2-819b-fd5e555b4e58",
   "metadata": {},
   "outputs": [],
   "source": [
    "natal.getLinks(85)"
   ]
  },
  {
   "cell_type": "code",
   "execution_count": null,
   "id": "40c22a0d-8195-4f31-8a82-9b02108563dd",
   "metadata": {},
   "outputs": [],
   "source": [
    "len(natal.links)"
   ]
  },
  {
   "cell_type": "code",
   "execution_count": null,
   "id": "8d187a2b-9a4e-47f7-8a6f-8f682c094018",
   "metadata": {},
   "outputs": [],
   "source": [
    "\n",
    "aracaju = TripAdvisorScrap('https://www.tripadvisor.com.br/Restaurants-g303638-Aracaju_State_of_Sergipe.html')\n",
    "sao_luiz = TripAdvisorScrap('https://www.tripadvisor.com.br/Restaurants-g673267-Sao_Luis_State_of_Maranhao.html')"
   ]
  },
  {
   "cell_type": "code",
   "execution_count": null,
   "id": "98587357-8be7-4e36-8420-433ea028f74d",
   "metadata": {},
   "outputs": [],
   "source": [
    "aracaju.getLinks(51)"
   ]
  },
  {
   "cell_type": "code",
   "execution_count": null,
   "id": "3e151a49-c871-4e91-ad22-e0c6d038c5dc",
   "metadata": {},
   "outputs": [],
   "source": [
    "len(aracaju.links)"
   ]
  },
  {
   "cell_type": "code",
   "execution_count": null,
   "id": "ba8c6953-2d06-49b0-9ece-16515f600e3b",
   "metadata": {},
   "outputs": [],
   "source": [
    "sao_luiz.getLinks(58)"
   ]
  },
  {
   "cell_type": "code",
   "execution_count": null,
   "id": "704ad188-8aee-408c-8e98-28ef494aa1ac",
   "metadata": {},
   "outputs": [],
   "source": [
    "len(sao_luiz.links)"
   ]
  },
  {
   "cell_type": "code",
   "execution_count": null,
   "id": "36d9290e-2556-4d2a-b557-ef2ff65d7a4e",
   "metadata": {},
   "outputs": [],
   "source": [
    "natal_scrapa = ScrapLink()\n",
    "natal_scrapa.scrapAll(list(natal.links.values()))"
   ]
  },
  {
   "cell_type": "code",
   "execution_count": null,
   "id": "3e0f53cf-5424-49c2-b293-d23814add393",
   "metadata": {},
   "outputs": [],
   "source": [
    "sao_luiz_scrapa = ScrapLink()\n",
    "sao_luiz_scrapa.scrapAll(list(sao_luiz.links.values()))"
   ]
  },
  {
   "cell_type": "code",
   "execution_count": null,
   "id": "8901b0e8-b020-4c35-a9c6-85c7a8eca09b",
   "metadata": {},
   "outputs": [],
   "source": [
    "aracaju_scrapa = ScrapLink()\n",
    "aracaju_scrapa.scrapAll(list(aracaju.links.values()))"
   ]
  },
  {
   "cell_type": "code",
   "execution_count": null,
   "id": "c9c3d3a7-97f6-4f9b-9368-e9f997c3846e",
   "metadata": {},
   "outputs": [],
   "source": [
    "df_natal = pd.DataFrame.from_dict(natal_scrapa.AnswerTable, orient='index')\n",
    "lista_price = list(['$','$$ - $$$','$$-$$$', '$$$', '$$$-$$$$', '$$$ - $$$$', '$$$$', '$$$$-$$$$$', '$$$$ - $$$$$', '$$$$$'])\n",
    "df_natal.label_price = df_natal.label_price.map(lambda x: None if x not in lista_price else x)\n",
    "df_natal.to_csv('natal_trip_adv.csv')"
   ]
  },
  {
   "cell_type": "code",
   "execution_count": null,
   "id": "93bd918e-7692-4613-8b58-68e8ff8723b6",
   "metadata": {},
   "outputs": [],
   "source": [
    "df_sao_luiz = pd.DataFrame.from_dict(sao_luiz_scrapa.AnswerTable, orient='index')\n",
    "lista_price = list(['$','$$ - $$$','$$-$$$', '$$$', '$$$-$$$$', '$$$ - $$$$', '$$$$', '$$$$-$$$$$', '$$$$ - $$$$$', '$$$$$'])\n",
    "df_sao_luiz.label_price = df_sao_luiz.label_price.map(lambda x: None if x not in lista_price else x)\n",
    "df_sao_luiz.to_csv('sao_luis_trip_adv.csv')"
   ]
  },
  {
   "cell_type": "code",
   "execution_count": null,
   "id": "11753185-47e8-4aa6-8988-a0a97616748f",
   "metadata": {},
   "outputs": [],
   "source": [
    "df_aracaju = pd.DataFrame.from_dict(aracaju_scrapa.AnswerTable, orient='index')\n",
    "lista_price = list(['$','$$ - $$$','$$-$$$', '$$$', '$$$-$$$$', '$$$ - $$$$', '$$$$', '$$$$-$$$$$', '$$$$ - $$$$$', '$$$$$'])\n",
    "df_aracaju.label_price = df_aracaju.label_price.map(lambda x: None if x not in lista_price else x)\n",
    "df_aracaju.to_csv('aracaju_trip_adv.csv')"
   ]
  }
 ],
 "metadata": {
  "kernelspec": {
   "display_name": "Python 3 (ipykernel)",
   "language": "python",
   "name": "python3"
  },
  "language_info": {
   "codemirror_mode": {
    "name": "ipython",
    "version": 3
   },
   "file_extension": ".py",
   "mimetype": "text/x-python",
   "name": "python",
   "nbconvert_exporter": "python",
   "pygments_lexer": "ipython3",
   "version": "3.10.9"
  }
 },
 "nbformat": 4,
 "nbformat_minor": 5
}
